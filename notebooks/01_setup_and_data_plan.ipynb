{
  "nbformat": 4,
  "nbformat_minor": 0,
  "metadata": {
    "colab": {
      "provenance": [],
      "authorship_tag": "ABX9TyP4hRKs2v3ucP00+sC6b6VS",
      "include_colab_link": true
    },
    "kernelspec": {
      "name": "python3",
      "display_name": "Python 3"
    },
    "language_info": {
      "name": "python"
    }
  },
  "cells": [
    {
      "cell_type": "markdown",
      "metadata": {
        "id": "view-in-github",
        "colab_type": "text"
      },
      "source": [
        "<a href=\"https://colab.research.google.com/github/atasevski/gdelt-echo-chambers/blob/main/notebooks/01_setup_and_data_plan.ipynb\" target=\"_parent\"><img src=\"https://colab.research.google.com/assets/colab-badge.svg\" alt=\"Open In Colab\"/></a>"
      ]
    },
    {
      "cell_type": "code",
      "execution_count": 2,
      "metadata": {
        "colab": {
          "base_uri": "https://localhost:8080/"
        },
        "id": "QNn_FHdRU1JD",
        "outputId": "8a750617-07d6-4f62-dba8-ea8db392a86d"
      },
      "outputs": [
        {
          "output_type": "stream",
          "name": "stdout",
          "text": [
            "Cloning into 'gdelt-echo-chambers'...\n",
            "remote: Enumerating objects: 5, done.\u001b[K\n",
            "remote: Counting objects: 100% (5/5), done.\u001b[K\n",
            "remote: Compressing objects: 100% (5/5), done.\u001b[K\n",
            "remote: Total 5 (delta 0), reused 0 (delta 0), pack-reused 0 (from 0)\u001b[K\n",
            "Receiving objects: 100% (5/5), done.\n",
            "/content/gdelt-echo-chambers\n"
          ]
        }
      ],
      "source": [
        "!git clone https://github.com/atasevski/gdelt-echo-chambers.git\n",
        "%cd gdelt-echo-chambers"
      ]
    },
    {
      "cell_type": "code",
      "source": [
        "import os\n",
        "\n",
        "dirs = [\"data\", \"notebooks\", \"src\", \"results\"]\n",
        "\n",
        "for d in dirs:\n",
        "    os.makedirs(d, exist_ok=True)\n"
      ],
      "metadata": {
        "id": "PWqGPCFNVF94"
      },
      "execution_count": 3,
      "outputs": []
    },
    {
      "cell_type": "code",
      "source": [],
      "metadata": {
        "id": "NKbbC3_NVNG3"
      },
      "execution_count": null,
      "outputs": []
    }
  ]
}